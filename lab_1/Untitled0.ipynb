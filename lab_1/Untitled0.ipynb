{
 "metadata": {
  "name": "",
  "signature": "sha256:383902070e7169cb2b93c8c1ada5403b193d7feff904ea24c30ee242b16917f1"
 },
 "nbformat": 3,
 "nbformat_minor": 0,
 "worksheets": [
  {
   "cells": [
    {
     "cell_type": "code",
     "collapsed": false,
     "input": [
      "import pymatbridge as pymat\n",
      "ip = get_ipython()"
     ],
     "language": "python",
     "metadata": {},
     "outputs": [],
     "prompt_number": 2
    },
    {
     "cell_type": "code",
     "collapsed": false,
     "input": [
      "pymat.load_ipython_extension(ip, matlab='/home/mohamed/MATLAB/R2012a/bin')"
     ],
     "language": "python",
     "metadata": {},
     "outputs": [],
     "prompt_number": 5
    },
    {
     "cell_type": "code",
     "collapsed": false,
     "input": [
      "%%matlab\n"
     ],
     "language": "python",
     "metadata": {},
     "outputs": []
    }
   ],
   "metadata": {}
  }
 ]
}